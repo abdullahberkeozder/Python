{
 "cells": [
  {
   "cell_type": "code",
   "execution_count": null,
   "id": "f826587c",
   "metadata": {},
   "outputs": [],
   "source": [
    "# This Project coded in Google Colab environment by #\n",
    "# Builded with MongoDB #\n",
    "\n",
    "\n",
    "# PROJECT MEMBERS #\n",
    "# Abdullah Berke Özder 202011410 #\n",
    "# Şima Kayısı 201811043 #\n",
    "# Aybüke Gökmen 201811031 #\n",
    "\n",
    "# FOR CENG 476 PROJECT #"
   ]
  },
  {
   "cell_type": "code",
   "execution_count": null,
   "id": "1942313c",
   "metadata": {},
   "outputs": [],
   "source": [
    "import pyspark\n",
    "from pyspark.sql import SparkSession\n",
    "from pyspark.sql.types import *\n",
    "\n",
    "conf = pyspark.SparkConf().set(\"spark.jars.packages\",\n",
    "                               \"org.mongodb.spark:mongo-spark-connector_2.12:3.0.1\").setMaster(\"local\").setAppName(\"bigdata\").setAll([(\"spark.driver.memory\",\"40g\"),(\"spark.executor.memory\",\"50g\")])\n",
    "\n",
    "spark = SparkSession.builder.config(conf=conf).getOrCreate()\n",
    "\n",
    "mongo_uri = \"mongodb://localhost:27017/\"\n",
    "database_name = \"bigdata\"\n",
    "collection_name = \"bigdata\"\n",
    "\n",
    "# MongoDB verilerini çekme\n",
    "df = spark.read.format(\"mongo\").option(\"uri\", mongo_uri + database_name + \".\" + collection_name).load()\n",
    "\n",
    "# DataFrame'i kullanma\n",
    "df.printSchema()\n",
    "df.show()\n"
   ]
  },
  {
   "cell_type": "code",
   "execution_count": 5,
   "id": "719cd6b6",
   "metadata": {},
   "outputs": [
    {
     "data": {
      "text/plain": [
       "['Account_Manager',\n",
       " 'Age',\n",
       " 'Churn',\n",
       " 'Company',\n",
       " 'Location',\n",
       " 'Names',\n",
       " 'Num_Sites',\n",
       " 'Onboard_date',\n",
       " 'Total_Purchase',\n",
       " 'Years',\n",
       " '_id']"
      ]
     },
     "execution_count": 5,
     "metadata": {},
     "output_type": "execute_result"
    }
   ],
   "source": [
    "df.columns"
   ]
  },
  {
   "cell_type": "code",
   "execution_count": 6,
   "id": "ab236b1c",
   "metadata": {},
   "outputs": [],
   "source": [
    "from pyspark.ml.feature import VectorAssembler"
   ]
  },
  {
   "cell_type": "code",
   "execution_count": 7,
   "id": "7fa23b29",
   "metadata": {},
   "outputs": [],
   "source": [
    "assembler = VectorAssembler (inputCols= ['Age',\n",
    " 'Total_Purchase',\n",
    " 'Account_Manager',\n",
    " 'Years',\n",
    " 'Num_Sites'],\n",
    " outputCol = \"features\")"
   ]
  },
  {
   "cell_type": "code",
   "execution_count": 8,
   "id": "0e1d6212",
   "metadata": {},
   "outputs": [],
   "source": [
    "output = assembler.transform(df)"
   ]
  },
  {
   "cell_type": "code",
   "execution_count": 9,
   "id": "b05d4991",
   "metadata": {},
   "outputs": [],
   "source": [
    "df_final = output.select(\"features\", \"churn\")"
   ]
  },
  {
   "cell_type": "code",
   "execution_count": 10,
   "id": "484c9449",
   "metadata": {},
   "outputs": [
    {
     "name": "stdout",
     "output_type": "stream",
     "text": [
      "+--------------------+-----+\n",
      "|            features|churn|\n",
      "+--------------------+-----+\n",
      "|[42.0,11066.8,0.0...|    1|\n",
      "|[41.0,11916.22,0....|    1|\n",
      "|[38.0,12884.75,0....|    1|\n",
      "|[42.0,8010.76,0.0...|    1|\n",
      "|[37.0,9191.58,0.0...|    1|\n",
      "|[48.0,10356.02,0....|    1|\n",
      "|[44.0,11331.58,1....|    1|\n",
      "|[32.0,9885.12,1.0...|    1|\n",
      "|[43.0,14062.6,1.0...|    1|\n",
      "|[40.0,8066.94,1.0...|    1|\n",
      "|[30.0,11575.37,1....|    1|\n",
      "|[45.0,8771.02,1.0...|    1|\n",
      "|[45.0,8988.67,1.0...|    1|\n",
      "|[40.0,8283.32,1.0...|    1|\n",
      "|[41.0,6569.87,1.0...|    1|\n",
      "|[38.0,10494.82,1....|    1|\n",
      "|[45.0,8213.41,1.0...|    1|\n",
      "|[43.0,11226.88,0....|    1|\n",
      "|[53.0,5515.09,0.0...|    1|\n",
      "|[46.0,8046.4,1.0,...|    1|\n",
      "+--------------------+-----+\n",
      "only showing top 20 rows\n",
      "\n"
     ]
    }
   ],
   "source": [
    "df_final.show()"
   ]
  },
  {
   "cell_type": "code",
   "execution_count": 11,
   "id": "5e13a6a0",
   "metadata": {},
   "outputs": [],
   "source": [
    "train, test = df_final.randomSplit([0.7, 0.3], seed=42)"
   ]
  },
  {
   "cell_type": "code",
   "execution_count": 12,
   "id": "70322f83",
   "metadata": {},
   "outputs": [],
   "source": [
    "from pyspark.ml.classification import LogisticRegression"
   ]
  },
  {
   "cell_type": "code",
   "execution_count": 13,
   "id": "670ef5d1",
   "metadata": {},
   "outputs": [],
   "source": [
    "lr = LogisticRegression(labelCol=\"churn\")"
   ]
  },
  {
   "cell_type": "code",
   "execution_count": 14,
   "id": "bd809eae",
   "metadata": {},
   "outputs": [],
   "source": [
    "lrm = lr.fit(train)"
   ]
  },
  {
   "cell_type": "code",
   "execution_count": 15,
   "id": "63fc3dbc",
   "metadata": {},
   "outputs": [
    {
     "data": {
      "text/plain": [
       "<pyspark.ml.classification.BinaryLogisticRegressionTrainingSummary at 0x21632b494b0>"
      ]
     },
     "execution_count": 15,
     "metadata": {},
     "output_type": "execute_result"
    }
   ],
   "source": [
    "lrm.summary"
   ]
  },
  {
   "cell_type": "code",
   "execution_count": 16,
   "id": "35f35282",
   "metadata": {},
   "outputs": [],
   "source": [
    "lrm_summary = lrm.summary"
   ]
  },
  {
   "cell_type": "code",
   "execution_count": 17,
   "id": "79fb1907",
   "metadata": {},
   "outputs": [
    {
     "name": "stdout",
     "output_type": "stream",
     "text": [
      "+--------------------+-----+--------------------+--------------------+----------+\n",
      "|            features|churn|       rawPrediction|         probability|prediction|\n",
      "+--------------------+-----+--------------------+--------------------+----------+\n",
      "|[22.0,11254.38,1....|  0.0|[4.55979963242690...|[0.98964420919358...|       0.0|\n",
      "|[25.0,9672.03,0.0...|  0.0|[4.67536757133125...|[0.99076400091638...|       0.0|\n",
      "|[26.0,8939.61,0.0...|  0.0|[6.28230440567531...|[0.99813439848473...|       0.0|\n",
      "|[27.0,8628.8,1.0,...|  0.0|[5.32554251161008...|[0.99515784990742...|       0.0|\n",
      "|[28.0,8670.98,0.0...|  0.0|[7.59026200904824...|[0.99949490661754...|       0.0|\n",
      "|[28.0,11128.95,1....|  0.0|[4.09749022712613...|[0.98365720318515...|       0.0|\n",
      "|[29.0,5900.78,1.0...|  0.0|[4.06733742325029...|[0.98316533957374...|       0.0|\n",
      "|[29.0,8688.17,1.0...|  1.0|[2.71962101743711...|[0.93817455523842...|       0.0|\n",
      "|[29.0,9378.24,0.0...|  0.0|[4.73007562142385...|[0.99125140974466...|       0.0|\n",
      "|[29.0,12711.15,0....|  0.0|[5.26411648016011...|[0.99485266978467...|       0.0|\n",
      "|[29.0,13240.01,1....|  0.0|[6.47472510820143...|[0.99846045112441...|       0.0|\n",
      "|[29.0,13255.05,1....|  0.0|[4.04666631207395...|[0.98281976763204...|       0.0|\n",
      "|[30.0,7960.64,1.0...|  1.0|[3.13526575434993...|[0.95832420978025...|       0.0|\n",
      "|[30.0,8677.28,1.0...|  0.0|[4.06908153506488...|[0.98319418249941...|       0.0|\n",
      "|[30.0,10744.14,1....|  1.0|[1.77952269189110...|[0.85563791802161...|       0.0|\n",
      "|[30.0,10960.52,1....|  0.0|[2.40247407103320...|[0.91701576933689...|       0.0|\n",
      "|[30.0,11575.37,1....|  1.0|[3.89386120765316...|[0.98003996266427...|       0.0|\n",
      "|[31.0,5387.75,0.0...|  0.0|[2.66975170329194...|[0.93521798988786...|       0.0|\n",
      "|[31.0,8688.21,0.0...|  0.0|[6.48214956423210...|[0.99847182170736...|       0.0|\n",
      "|[31.0,10058.87,1....|  0.0|[4.34147270545396...|[0.98714993040074...|       0.0|\n",
      "+--------------------+-----+--------------------+--------------------+----------+\n",
      "only showing top 20 rows\n",
      "\n"
     ]
    }
   ],
   "source": [
    "lrm_summary.predictions.show()"
   ]
  },
  {
   "cell_type": "code",
   "execution_count": 18,
   "id": "6b58b464",
   "metadata": {},
   "outputs": [
    {
     "name": "stdout",
     "output_type": "stream",
     "text": [
      "+-------+------------------+-------------------+\n",
      "|summary|             churn|         prediction|\n",
      "+-------+------------------+-------------------+\n",
      "|  count|               667|                667|\n",
      "|   mean|0.1634182908545727|0.12293853073463268|\n",
      "| stddev|0.3700243606477147|0.32861306618408714|\n",
      "|    min|               0.0|                0.0|\n",
      "|    max|               1.0|                1.0|\n",
      "+-------+------------------+-------------------+\n",
      "\n"
     ]
    }
   ],
   "source": [
    "lrm_summary.predictions.describe().show()"
   ]
  },
  {
   "cell_type": "code",
   "execution_count": 19,
   "id": "67d816cc",
   "metadata": {},
   "outputs": [],
   "source": [
    "from pyspark.ml.evaluation import BinaryClassificationEvaluator"
   ]
  },
  {
   "cell_type": "code",
   "execution_count": 20,
   "id": "7ff51796",
   "metadata": {},
   "outputs": [],
   "source": [
    "pred_labels = lrm.evaluate(test)"
   ]
  },
  {
   "cell_type": "code",
   "execution_count": 21,
   "id": "5446acac",
   "metadata": {
    "scrolled": true
   },
   "outputs": [
    {
     "name": "stdout",
     "output_type": "stream",
     "text": [
      "+--------------------+-----+--------------------+--------------------+----------+\n",
      "|            features|churn|       rawPrediction|         probability|prediction|\n",
      "+--------------------+-----+--------------------+--------------------+----------+\n",
      "|[26.0,8787.39,1.0...|    1|[0.79106248132020...|[0.68805942038441...|       0.0|\n",
      "|[28.0,9090.43,1.0...|    0|[1.61026688857555...|[0.83344843709585...|       0.0|\n",
      "|[28.0,11204.23,0....|    0|[1.97148345642762...|[0.87777036176974...|       0.0|\n",
      "|[28.0,11245.38,0....|    0|[3.75331012854098...|[0.97709682330471...|       0.0|\n",
      "|[29.0,9617.59,0.0...|    0|[4.42202807822147...|[0.98813267415840...|       0.0|\n",
      "|[29.0,10203.18,1....|    0|[3.71080419195967...|[0.97612605863733...|       0.0|\n",
      "|[29.0,11274.46,1....|    0|[4.39058463869248...|[0.98775823667280...|       0.0|\n",
      "|[30.0,6744.87,0.0...|    0|[3.55749267043437...|[0.97228008128416...|       0.0|\n",
      "|[30.0,8403.78,1.0...|    0|[5.76304568829245...|[0.99686830940139...|       0.0|\n",
      "|[30.0,8874.83,0.0...|    0|[3.22709763405856...|[0.96184137137662...|       0.0|\n",
      "|[30.0,10183.98,1....|    0|[2.87524813075598...|[0.94660921217089...|       0.0|\n",
      "|[30.0,12788.37,0....|    0|[2.55636649637210...|[0.92800005897191...|       0.0|\n",
      "|[30.0,13473.35,0....|    0|[2.76977890817312...|[0.94102071697444...|       0.0|\n",
      "|[31.0,5304.6,0.0,...|    0|[3.48758770685489...|[0.97033253112331...|       0.0|\n",
      "|[31.0,7073.61,0.0...|    0|[3.16501389037818...|[0.95949625177380...|       0.0|\n",
      "|[31.0,8829.83,1.0...|    0|[4.33951413571566...|[0.98712506233162...|       0.0|\n",
      "|[31.0,9574.89,0.0...|    0|[3.31877005992135...|[0.96506715076717...|       0.0|\n",
      "|[31.0,11743.24,0....|    0|[6.54958239216506...|[0.99857133106464...|       0.0|\n",
      "|[32.0,6367.22,1.0...|    0|[3.02498369579995...|[0.95369013007749...|       0.0|\n",
      "|[32.0,7896.65,0.0...|    0|[3.45646309561266...|[0.96942330053394...|       0.0|\n",
      "+--------------------+-----+--------------------+--------------------+----------+\n",
      "only showing top 20 rows\n",
      "\n"
     ]
    }
   ],
   "source": [
    "pred_labels.predictions.show()"
   ]
  },
  {
   "cell_type": "code",
   "execution_count": 22,
   "id": "e3406a71",
   "metadata": {},
   "outputs": [],
   "source": [
    "eval = BinaryClassificationEvaluator(rawPredictionCol=\"prediction\", labelCol=\"churn\")"
   ]
  },
  {
   "cell_type": "code",
   "execution_count": 23,
   "id": "e4aaf2d4",
   "metadata": {},
   "outputs": [],
   "source": [
    "auc = eval.evaluate(pred_labels.predictions)"
   ]
  },
  {
   "cell_type": "code",
   "execution_count": 24,
   "id": "b8b1e597",
   "metadata": {},
   "outputs": [
    {
     "name": "stdout",
     "output_type": "stream",
     "text": [
      "0.7456808943089431\n"
     ]
    }
   ],
   "source": [
    "print(auc)"
   ]
  },
  {
   "cell_type": "code",
   "execution_count": 28,
   "id": "1795011f",
   "metadata": {},
   "outputs": [
    {
     "name": "stdout",
     "output_type": "stream",
     "text": [
      "root\n",
      " |-- Account_Manager: integer (nullable = true)\n",
      " |-- Age: double (nullable = true)\n",
      " |-- Company: string (nullable = true)\n",
      " |-- Location: string (nullable = true)\n",
      " |-- Names: string (nullable = true)\n",
      " |-- Num_Sites: double (nullable = true)\n",
      " |-- Onboard_date: string (nullable = true)\n",
      " |-- Total_Purchase: double (nullable = true)\n",
      " |-- Years: double (nullable = true)\n",
      " |-- _id: struct (nullable = true)\n",
      " |    |-- oid: string (nullable = true)\n",
      "\n"
     ]
    }
   ],
   "source": [
    "collection_name = \"bigdata_test\"\n",
    "\n",
    "# MongoDB verilerini çekme\n",
    "df_new_customer = spark.read.format(\"mongo\").option(\"uri\", mongo_uri + database_name + \".\" + collection_name).load()\n",
    "\n",
    "# DataFrame'i kullanma\n",
    "df_new_customer.printSchema()"
   ]
  },
  {
   "cell_type": "code",
   "execution_count": 29,
   "id": "446446bf",
   "metadata": {},
   "outputs": [],
   "source": [
    "final_model = lr.fit(df_final)"
   ]
  },
  {
   "cell_type": "code",
   "execution_count": 30,
   "id": "f7b1c641",
   "metadata": {},
   "outputs": [],
   "source": [
    "customer_valid = assembler.transform(df_new_customer)"
   ]
  },
  {
   "cell_type": "code",
   "execution_count": 31,
   "id": "80bca35a",
   "metadata": {},
   "outputs": [
    {
     "name": "stdout",
     "output_type": "stream",
     "text": [
      "root\n",
      " |-- Account_Manager: integer (nullable = true)\n",
      " |-- Age: double (nullable = true)\n",
      " |-- Company: string (nullable = true)\n",
      " |-- Location: string (nullable = true)\n",
      " |-- Names: string (nullable = true)\n",
      " |-- Num_Sites: double (nullable = true)\n",
      " |-- Onboard_date: string (nullable = true)\n",
      " |-- Total_Purchase: double (nullable = true)\n",
      " |-- Years: double (nullable = true)\n",
      " |-- _id: struct (nullable = true)\n",
      " |    |-- oid: string (nullable = true)\n",
      " |-- features: vector (nullable = true)\n",
      "\n"
     ]
    }
   ],
   "source": [
    "customer_valid.printSchema()"
   ]
  },
  {
   "cell_type": "code",
   "execution_count": 32,
   "id": "5068548d",
   "metadata": {},
   "outputs": [],
   "source": [
    "results = final_model.transform(customer_valid)"
   ]
  },
  {
   "cell_type": "code",
   "execution_count": 33,
   "id": "fbb15519",
   "metadata": {},
   "outputs": [
    {
     "name": "stdout",
     "output_type": "stream",
     "text": [
      "+----------------+----------+\n",
      "|         Company|Prediction|\n",
      "+----------------+----------+\n",
      "|        King Ltd|       0.0|\n",
      "|   Cannon-Benson|       1.0|\n",
      "|Barron-Robertson|       1.0|\n",
      "|   Sexton-Golden|       1.0|\n",
      "|        Wood LLC|       0.0|\n",
      "|   Parks-Robbins|       1.0|\n",
      "+----------------+----------+\n",
      "\n"
     ]
    }
   ],
   "source": [
    "results.select(\"Company\", \"Prediction\").show()"
   ]
  }
 ],
 "metadata": {
  "kernelspec": {
   "display_name": "Python 3 (ipykernel)",
   "language": "python",
   "name": "python3"
  },
  "language_info": {
   "codemirror_mode": {
    "name": "ipython",
    "version": 3
   },
   "file_extension": ".py",
   "mimetype": "text/x-python",
   "name": "python",
   "nbconvert_exporter": "python",
   "pygments_lexer": "ipython3",
   "version": "3.10.9"
  }
 },
 "nbformat": 4,
 "nbformat_minor": 5
}
